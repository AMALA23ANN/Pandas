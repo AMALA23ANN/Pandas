{
  "nbformat": 4,
  "nbformat_minor": 0,
  "metadata": {
    "colab": {
      "name": "freq_stopwords.ipynb",
      "provenance": [],
      "collapsed_sections": [],
      "authorship_tag": "ABX9TyOHb2ULiNzNV3nXzjbGJudQ",
      "include_colab_link": true
    },
    "kernelspec": {
      "name": "python3",
      "display_name": "Python 3"
    }
  },
  "cells": [
    {
      "cell_type": "markdown",
      "metadata": {
        "id": "view-in-github",
        "colab_type": "text"
      },
      "source": [
        "<a href=\"https://colab.research.google.com/github/AMALA23ANN/Pandas/blob/master/freq_stopwords.ipynb\" target=\"_parent\"><img src=\"https://colab.research.google.com/assets/colab-badge.svg\" alt=\"Open In Colab\"/></a>"
      ]
    },
    {
      "cell_type": "code",
      "metadata": {
        "id": "FvYcARqem1mE",
        "colab_type": "code",
        "colab": {}
      },
      "source": [
        "import os\n",
        "import pandas as pd\n",
        "import matplotlib.pyplot as plt\n",
        "import seaborn as sns\n",
        "import itertools\n",
        "import collections\n",
        "\n",
        "\n",
        "import nltk\n",
        "from nltk.corpus import stopwords\n",
        "import re\n",
        "import networkx\n",
        "\n",
        "import warnings\n",
        "warnings.filterwarnings(\"ignore\")\n",
        "\n",
        "sns.set(font_scale=1.5)\n",
        "sns.set_style(\"whitegrid\")"
      ],
      "execution_count": 89,
      "outputs": []
    },
    {
      "cell_type": "code",
      "metadata": {
        "id": "HX2QcVhMoXXG",
        "colab_type": "code",
        "colab": {
          "base_uri": "https://localhost:8080/",
          "height": 50
        },
        "outputId": "e20ef273-90e5-4f85-db4a-6d00909efaf5"
      },
      "source": [
        "from nltk.corpus import stopwords\n",
        "nltk.download('stopwords')\n",
        "from nltk.tokenize import word_tokenize\n",
        "\n",
        "text = ('Members of the public complained to the Classification Office about Paranormal Activity unrestricted rating. They felt that the film was very frightening and contained highly disturbing themes. One complainant said that her 13-year-old son was extremely disturbed after watching the film.As a result of the complaints, the Chief Censor decided to call the film in.')\n"
      ],
      "execution_count": 90,
      "outputs": [
        {
          "output_type": "stream",
          "text": [
            "[nltk_data] Downloading package stopwords to /root/nltk_data...\n",
            "[nltk_data]   Package stopwords is already up-to-date!\n"
          ],
          "name": "stdout"
        }
      ]
    },
    {
      "cell_type": "code",
      "metadata": {
        "id": "SWYKBw9o16vw",
        "colab_type": "code",
        "colab": {
          "base_uri": "https://localhost:8080/",
          "height": 54
        },
        "outputId": "1302e264-3567-4d9d-9d71-bb264b3e89b3"
      },
      "source": [
        "#Removing stopwords\n",
        "tokens_without_sw = [word for word in text_tokens if not word in stopwords.words()]\n",
        "\n",
        "print(tokens_without_sw)"
      ],
      "execution_count": 91,
      "outputs": [
        {
          "output_type": "stream",
          "text": [
            "['Members', 'public', 'complained', 'Classification', 'Office', 'Paranormal', 'Activity', 'unrestricted', 'rating', '.', 'They', 'felt', 'film', 'frightening', 'contained', 'highly', 'disturbing', 'themes', '.', 'One', 'complainant', 'said', '13-year-old', 'extremely', 'disturbed', 'watching', 'film.As', 'result', 'complaints', ',', 'Chief', 'Censor', 'decided', 'call', 'film', '.']\n"
          ],
          "name": "stdout"
        }
      ]
    },
    {
      "cell_type": "code",
      "metadata": {
        "id": "TUjTGRxcpWmv",
        "colab_type": "code",
        "colab": {
          "base_uri": "https://localhost:8080/",
          "height": 54
        },
        "outputId": "273db644-7c75-4ebb-ab8a-4fe59e79cd7c"
      },
      "source": [
        "#join the list of above words to create a sentence without stop words\n",
        "filtered_sentence = (\" \").join(tokens_without_sw)\n",
        "print(filtered_sentence)"
      ],
      "execution_count": 92,
      "outputs": [
        {
          "output_type": "stream",
          "text": [
            "Members public complained Classification Office Paranormal Activity unrestricted rating . They felt film frightening contained highly disturbing themes . One complainant said 13-year-old extremely disturbed watching film.As result complaints , Chief Censor decided call film .\n"
          ],
          "name": "stdout"
        }
      ]
    },
    {
      "cell_type": "code",
      "metadata": {
        "id": "07zeLYiCYAtE",
        "colab_type": "code",
        "colab": {
          "base_uri": "https://localhost:8080/",
          "height": 269
        },
        "outputId": "f7c9f42d-63b3-4c90-9d31-e7bdbaa545fd"
      },
      "source": [
        "# List of all words across the text\n",
        "all_words_no_urls = list(itertools.chain(*text))\n",
        "\n",
        "# Create counter\n",
        "counts_no_urls = collections.Counter(all_words_no_urls)\n",
        "\n",
        "counts_no_urls.most_common(15)"
      ],
      "execution_count": 93,
      "outputs": [
        {
          "output_type": "execute_result",
          "data": {
            "text/plain": [
              "[(' ', 54),\n",
              " ('e', 33),\n",
              " ('t', 32),\n",
              " ('i', 27),\n",
              " ('a', 23),\n",
              " ('n', 19),\n",
              " ('h', 17),\n",
              " ('r', 16),\n",
              " ('l', 16),\n",
              " ('s', 15),\n",
              " ('o', 14),\n",
              " ('f', 12),\n",
              " ('c', 12),\n",
              " ('d', 12),\n",
              " ('m', 10)]"
            ]
          },
          "metadata": {
            "tags": []
          },
          "execution_count": 93
        }
      ]
    },
    {
      "cell_type": "code",
      "metadata": {
        "id": "9umhg2cvX_Zt",
        "colab_type": "code",
        "colab": {
          "base_uri": "https://localhost:8080/",
          "height": 195
        },
        "outputId": "397be909-7158-443d-ae93-1846a973447b"
      },
      "source": [
        "clean_text_no_urls = pd.DataFrame(counts_no_urls.most_common(15),\n",
        "                             columns=['words', 'count'])\n",
        "\n",
        "clean_text_no_urls.head()"
      ],
      "execution_count": 94,
      "outputs": [
        {
          "output_type": "execute_result",
          "data": {
            "text/html": [
              "<div>\n",
              "<style scoped>\n",
              "    .dataframe tbody tr th:only-of-type {\n",
              "        vertical-align: middle;\n",
              "    }\n",
              "\n",
              "    .dataframe tbody tr th {\n",
              "        vertical-align: top;\n",
              "    }\n",
              "\n",
              "    .dataframe thead th {\n",
              "        text-align: right;\n",
              "    }\n",
              "</style>\n",
              "<table border=\"1\" class=\"dataframe\">\n",
              "  <thead>\n",
              "    <tr style=\"text-align: right;\">\n",
              "      <th></th>\n",
              "      <th>words</th>\n",
              "      <th>count</th>\n",
              "    </tr>\n",
              "  </thead>\n",
              "  <tbody>\n",
              "    <tr>\n",
              "      <th>0</th>\n",
              "      <td></td>\n",
              "      <td>54</td>\n",
              "    </tr>\n",
              "    <tr>\n",
              "      <th>1</th>\n",
              "      <td>e</td>\n",
              "      <td>33</td>\n",
              "    </tr>\n",
              "    <tr>\n",
              "      <th>2</th>\n",
              "      <td>t</td>\n",
              "      <td>32</td>\n",
              "    </tr>\n",
              "    <tr>\n",
              "      <th>3</th>\n",
              "      <td>i</td>\n",
              "      <td>27</td>\n",
              "    </tr>\n",
              "    <tr>\n",
              "      <th>4</th>\n",
              "      <td>a</td>\n",
              "      <td>23</td>\n",
              "    </tr>\n",
              "  </tbody>\n",
              "</table>\n",
              "</div>"
            ],
            "text/plain": [
              "  words  count\n",
              "0           54\n",
              "1     e     33\n",
              "2     t     32\n",
              "3     i     27\n",
              "4     a     23"
            ]
          },
          "metadata": {
            "tags": []
          },
          "execution_count": 94
        }
      ]
    },
    {
      "cell_type": "code",
      "metadata": {
        "id": "aQsyuBWHp36C",
        "colab_type": "code",
        "colab": {
          "base_uri": "https://localhost:8080/",
          "height": 513
        },
        "outputId": "924985c4-6879-4042-d83f-f8acdc0ff687"
      },
      "source": [
        "#Plotting the frequency of words\n",
        "\n",
        "fig, ax = plt.subplots(figsize=(8, 8))\n",
        "\n",
        "# Plot horizontal bar graph\n",
        "clean_text_no_urls.sort_values(by='count').plot.barh(x='words',\n",
        "                      y='count',\n",
        "                      ax=ax,\n",
        "                      color=\"red\")\n",
        "\n",
        "ax.set_title(\"Common Words Found in text (Including All Words)\")\n",
        "\n",
        "plt.show()\n"
      ],
      "execution_count": 95,
      "outputs": [
        {
          "output_type": "display_data",
          "data": {
            "image/png": "[encoded data removed]",
            "text/plain": [
              "<Figure size 576x576 with 1 Axes>"
            ]
          },
          "metadata": {
            "tags": []
          }
        }
      ]
    },
    {
      "cell_type": "code",
      "metadata": {
        "id": "5HGjM3kgEq9c",
        "colab_type": "code",
        "colab": {
          "base_uri": "https://localhost:8080/",
          "height": 222
        },
        "outputId": "171697c5-3faa-4818-8871-659b8ce705e4"
      },
      "source": [
        "wordlist = text.split()\n",
        "\n",
        "wordfreq = []\n",
        "for w in wordlist:\n",
        "    wordfreq.append(wordlist.count(w))\n",
        "\n",
        "print(\"String\\n\" + text +\"\\n\")\n",
        "print(\"List\\n\" + str(wordlist) + \"\\n\")\n",
        "print(\"Frequencies\\n\" + str(wordfreq) + \"\\n\")\n",
        "print(\"Pairs\\n\" + str(list(zip(wordlist, wordfreq))))"
      ],
      "execution_count": 96,
      "outputs": [
        {
          "output_type": "stream",
          "text": [
            "String\n",
            "Members of the public complained to the Classification Office about Paranormal Activity unrestricted rating. They felt that the film was very frightening and contained highly disturbing themes. One complainant said that her 13-year-old son was extremely disturbed after watching the film.As a result of the complaints, the Chief Censor decided to call the film in.\n",
            "\n",
            "List\n",
            "['Members', 'of', 'the', 'public', 'complained', 'to', 'the', 'Classification', 'Office', 'about', 'Paranormal', 'Activity', 'unrestricted', 'rating.', 'They', 'felt', 'that', 'the', 'film', 'was', 'very', 'frightening', 'and', 'contained', 'highly', 'disturbing', 'themes.', 'One', 'complainant', 'said', 'that', 'her', '13-year-old', 'son', 'was', 'extremely', 'disturbed', 'after', 'watching', 'the', 'film.As', 'a', 'result', 'of', 'the', 'complaints,', 'the', 'Chief', 'Censor', 'decided', 'to', 'call', 'the', 'film', 'in.']\n",
            "\n",
            "Frequencies\n",
            "[1, 2, 7, 1, 1, 2, 7, 1, 1, 1, 1, 1, 1, 1, 1, 1, 2, 7, 2, 2, 1, 1, 1, 1, 1, 1, 1, 1, 1, 1, 2, 1, 1, 1, 2, 1, 1, 1, 1, 7, 1, 1, 1, 2, 7, 1, 7, 1, 1, 1, 2, 1, 7, 2, 1]\n",
            "\n",
            "Pairs\n",
            "[('Members', 1), ('of', 2), ('the', 7), ('public', 1), ('complained', 1), ('to', 2), ('the', 7), ('Classification', 1), ('Office', 1), ('about', 1), ('Paranormal', 1), ('Activity', 1), ('unrestricted', 1), ('rating.', 1), ('They', 1), ('felt', 1), ('that', 2), ('the', 7), ('film', 2), ('was', 2), ('very', 1), ('frightening', 1), ('and', 1), ('contained', 1), ('highly', 1), ('disturbing', 1), ('themes.', 1), ('One', 1), ('complainant', 1), ('said', 1), ('that', 2), ('her', 1), ('13-year-old', 1), ('son', 1), ('was', 2), ('extremely', 1), ('disturbed', 1), ('after', 1), ('watching', 1), ('the', 7), ('film.As', 1), ('a', 1), ('result', 1), ('of', 2), ('the', 7), ('complaints,', 1), ('the', 7), ('Chief', 1), ('Censor', 1), ('decided', 1), ('to', 2), ('call', 1), ('the', 7), ('film', 2), ('in.', 1)]\n"
          ],
          "name": "stdout"
        }
      ]
    },
    {
      "cell_type": "code",
      "metadata": {
        "id": "54t1RazuXlmH",
        "colab_type": "code",
        "colab": {
          "base_uri": "https://localhost:8080/",
          "height": 293
        },
        "outputId": "ccf4e390-ebee-4758-89e5-c8aa04fb7e12"
      },
      "source": [
        "plt.plot(wordfreq)"
      ],
      "execution_count": 97,
      "outputs": [
        {
          "output_type": "execute_result",
          "data": {
            "text/plain": [
              "[<matplotlib.lines.Line2D at 0x7f6132ceba20>]"
            ]
          },
          "metadata": {
            "tags": []
          },
          "execution_count": 97
        },
        {
          "output_type": "display_data",
          "data": {
            "image/png": "[encoded data removed]",
            "text/plain": [
              "<Figure size 432x288 with 1 Axes>"
            ]
          },
          "metadata": {
            "tags": []
          }
        }
      ]
    },
    {
      "cell_type": "code",
      "metadata": {
        "id": "ic599qD-X5FH",
        "colab_type": "code",
        "colab": {}
      },
      "source": [
        ""
      ],
      "execution_count": 97,
      "outputs": []
    }
  ]
}